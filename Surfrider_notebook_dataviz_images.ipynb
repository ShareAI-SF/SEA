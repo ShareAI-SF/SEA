{
 "cells": [
  {
   "cell_type": "markdown",
   "metadata": {
    "colab_type": "text",
    "id": "jsZv8OGxYyiq"
   },
   "source": [
    "### Getting started with annotations"
   ]
  },
  {
   "cell_type": "code",
   "execution_count": 0,
   "metadata": {
    "colab": {},
    "colab_type": "code",
    "id": "cq4QffoQYyix"
   },
   "outputs": [],
   "source": [
    "import numpy as np\n",
    "import pandas as pd\n",
    "import sys\n",
    "import json\n",
    "import glob\n",
    "import matplotlib.pyplot as plt"
   ]
  },
  {
   "cell_type": "code",
   "execution_count": 0,
   "metadata": {
    "colab": {},
    "colab_type": "code",
    "id": "LicEan-KYyi_"
   },
   "outputs": [],
   "source": [
    "def load_datas(folder):\n",
    "    annotations = []\n",
    "    list_file = glob.glob(\"{}*.json\".format(folder))\n",
    "    for file in list_file:\n",
    "        with open(file, encoding=\"utf-8\") as f:\n",
    "            json_obj = json.loads(\" \".join(f))\n",
    "            annotations.append(json_obj)\n",
    "    return annotations"
   ]
  },
  {
   "cell_type": "code",
   "execution_count": 0,
   "metadata": {
    "colab": {},
    "colab_type": "code",
    "id": "kCtnFwhMYyjK"
   },
   "outputs": [],
   "source": [
    "def dict_to_df(annotations):\n",
    "    asset = []\n",
    "    for annotation in annotations:\n",
    "        asset.extend([annotation[\"asset\"]] * len(annotation[\"regions\"]))\n",
    "    df_asset = pd.DataFrame(asset)\n",
    "    df_asset = df_asset.add_prefix('asset_')\n",
    "    df_asset = df_asset.drop(columns='asset_size')\n",
    "    size = []\n",
    "    for annotation in annotations:\n",
    "        size.extend([annotation[\"asset\"][\"size\"]] * len(annotation[\"regions\"]))       \n",
    "    df_asset_size = pd.DataFrame(size)\n",
    "    df_asset_size = df_asset_size.add_prefix('asset_size_')\n",
    "    df_regions = pd.DataFrame([region for i in range(len(annotations)) for region in annotations[i][\"regions\"]])\n",
    "    df_regions = df_regions.add_prefix('regions_')\n",
    "    df_regions = df_regions.drop(columns='regions_boundingBox')\n",
    "    df_regions_boundingBox = pd.DataFrame([region[\"boundingBox\"] for annotation in annotations for region in annotation[\"regions\"]])\n",
    "    df_regions_boundingBox = df_regions_boundingBox.add_prefix('regions_boundingBox_')\n",
    "    df = pd.concat([df_asset, df_asset_size, df_regions_boundingBox, df_regions], axis=1)\n",
    "    df.regions_tags = [elem for elt in df.regions_tags for elem in elt]\n",
    "    df.regions_tags[(df.regions_tags != 'drinking_bottle')& (df.regions_tags != 'unknow')] = 'unknow'\n",
    "    df['points_count'] = [(len(counter)) for counter in df.regions_points]\n",
    "    return df"
   ]
  },
  {
   "cell_type": "code",
   "execution_count": 0,
   "metadata": {
    "colab": {
     "base_uri": "https://localhost:8080/",
     "height": 35
    },
    "colab_type": "code",
    "executionInfo": {
     "elapsed": 801,
     "status": "ok",
     "timestamp": 1564652620572,
     "user": {
      "displayName": "Annabelle Giard",
      "photoUrl": "https://lh5.googleusercontent.com/-3NiIOJCreb0/AAAAAAAAAAI/AAAAAAAANJc/T2wvLKECB1Y/s64/photo.jpg",
      "userId": "08511463998612905381"
     },
     "user_tz": -120
    },
    "id": "bMD03OvFYyjT",
    "outputId": "c1365b31-a421-4274-8a03-ea6ec1d8da4a",
    "scrolled": true
   },
   "outputs": [
    {
     "data": {
      "text/plain": [
       "509"
      ]
     },
     "execution_count": 4,
     "metadata": {
      "tags": []
     },
     "output_type": "execute_result"
    }
   ],
   "source": [
    "annotations = load_datas(\"output/\")\n",
    "len(annotations)"
   ]
  },
  {
   "cell_type": "code",
   "execution_count": 0,
   "metadata": {
    "colab": {
     "base_uri": "https://localhost:8080/",
     "height": 336
    },
    "colab_type": "code",
    "executionInfo": {
     "elapsed": 3201,
     "status": "error",
     "timestamp": 1564652599214,
     "user": {
      "displayName": "Annabelle Giard",
      "photoUrl": "https://lh5.googleusercontent.com/-3NiIOJCreb0/AAAAAAAAAAI/AAAAAAAANJc/T2wvLKECB1Y/s64/photo.jpg",
      "userId": "08511463998612905381"
     },
     "user_tz": -120
    },
    "id": "BMFwPk0RYyjf",
    "outputId": "523c7672-2cad-4e81-88ac-57351fd4d76d"
   },
   "outputs": [
    {
     "name": "stderr",
     "output_type": "stream",
     "text": [
      "C:\\Users\\annabelle\\Anaconda3\\lib\\site-packages\\ipykernel_launcher.py:20: SettingWithCopyWarning: \n",
      "A value is trying to be set on a copy of a slice from a DataFrame\n",
      "\n",
      "See the caveats in the documentation: http://pandas.pydata.org/pandas-docs/stable/indexing.html#indexing-view-versus-copy\n"
     ]
    },
    {
     "data": {
      "text/html": [
       "<div>\n",
       "<style scoped>\n",
       "    .dataframe tbody tr th:only-of-type {\n",
       "        vertical-align: middle;\n",
       "    }\n",
       "\n",
       "    .dataframe tbody tr th {\n",
       "        vertical-align: top;\n",
       "    }\n",
       "\n",
       "    .dataframe thead th {\n",
       "        text-align: right;\n",
       "    }\n",
       "</style>\n",
       "<table border=\"1\" class=\"dataframe\">\n",
       "  <thead>\n",
       "    <tr style=\"text-align: right;\">\n",
       "      <th></th>\n",
       "      <th>asset_format</th>\n",
       "      <th>asset_id</th>\n",
       "      <th>asset_name</th>\n",
       "      <th>asset_path</th>\n",
       "      <th>asset_state</th>\n",
       "      <th>asset_type</th>\n",
       "      <th>asset_size_height</th>\n",
       "      <th>asset_size_width</th>\n",
       "      <th>regions_boundingBox_height</th>\n",
       "      <th>regions_boundingBox_left</th>\n",
       "      <th>regions_boundingBox_top</th>\n",
       "      <th>regions_boundingBox_width</th>\n",
       "      <th>regions_id</th>\n",
       "      <th>regions_points</th>\n",
       "      <th>regions_tags</th>\n",
       "      <th>regions_type</th>\n",
       "      <th>points_count</th>\n",
       "    </tr>\n",
       "  </thead>\n",
       "  <tbody>\n",
       "    <tr>\n",
       "      <th>0</th>\n",
       "      <td>jpg</td>\n",
       "      <td>054c701d53ae957c713b0035cf72cbc2</td>\n",
       "      <td>20190628_183115.jpg</td>\n",
       "      <td>https://surftestvott.blob.core.windows.net/inp...</td>\n",
       "      <td>2</td>\n",
       "      <td>1</td>\n",
       "      <td>4608</td>\n",
       "      <td>3456</td>\n",
       "      <td>99.096774</td>\n",
       "      <td>1828.032787</td>\n",
       "      <td>3319.741935</td>\n",
       "      <td>141.639344</td>\n",
       "      <td>tSG7ziOnm</td>\n",
       "      <td>[{'x': 1863.4426229508197, 'y': 3319.741935483...</td>\n",
       "      <td>unknow</td>\n",
       "      <td>POLYGON</td>\n",
       "      <td>4</td>\n",
       "    </tr>\n",
       "    <tr>\n",
       "      <th>1</th>\n",
       "      <td>jpg</td>\n",
       "      <td>054c701d53ae957c713b0035cf72cbc2</td>\n",
       "      <td>20190628_183115.jpg</td>\n",
       "      <td>https://surftestvott.blob.core.windows.net/inp...</td>\n",
       "      <td>2</td>\n",
       "      <td>1</td>\n",
       "      <td>4608</td>\n",
       "      <td>3456</td>\n",
       "      <td>162.801843</td>\n",
       "      <td>1410.196721</td>\n",
       "      <td>3935.557604</td>\n",
       "      <td>120.393443</td>\n",
       "      <td>-mcZK2BYV</td>\n",
       "      <td>[{'x': 1530.5901639344263, 'y': 3935.557603686...</td>\n",
       "      <td>unknow</td>\n",
       "      <td>POLYGON</td>\n",
       "      <td>4</td>\n",
       "    </tr>\n",
       "    <tr>\n",
       "      <th>2</th>\n",
       "      <td>jpg</td>\n",
       "      <td>054c701d53ae957c713b0035cf72cbc2</td>\n",
       "      <td>20190628_183115.jpg</td>\n",
       "      <td>https://surftestvott.blob.core.windows.net/inp...</td>\n",
       "      <td>2</td>\n",
       "      <td>1</td>\n",
       "      <td>4608</td>\n",
       "      <td>3456</td>\n",
       "      <td>205.271889</td>\n",
       "      <td>1813.868852</td>\n",
       "      <td>4254.082949</td>\n",
       "      <td>233.704918</td>\n",
       "      <td>rkGnrdLSC</td>\n",
       "      <td>[{'x': 2019.2459016393443, 'y': 4254.082949308...</td>\n",
       "      <td>unknow</td>\n",
       "      <td>POLYGON</td>\n",
       "      <td>6</td>\n",
       "    </tr>\n",
       "    <tr>\n",
       "      <th>3</th>\n",
       "      <td>PNG</td>\n",
       "      <td>059250a637564bda617bc910dc58662f</td>\n",
       "      <td>GOPRO27.PNG</td>\n",
       "      <td>https://surftestvott.blob.core.windows.net/inp...</td>\n",
       "      <td>2</td>\n",
       "      <td>1</td>\n",
       "      <td>601</td>\n",
       "      <td>535</td>\n",
       "      <td>145.208054</td>\n",
       "      <td>195.867717</td>\n",
       "      <td>75.293065</td>\n",
       "      <td>92.079146</td>\n",
       "      <td>EHZ7iwHPp</td>\n",
       "      <td>[{'x': 219.39158684045228, 'y': 90.08277404921...</td>\n",
       "      <td>unknow</td>\n",
       "      <td>POLYGON</td>\n",
       "      <td>21</td>\n",
       "    </tr>\n",
       "    <tr>\n",
       "      <th>4</th>\n",
       "      <td>jpg</td>\n",
       "      <td>059c8e7c4c954fdb6cb795182e06bdc5</td>\n",
       "      <td>IMG_20190623_142911.jpg</td>\n",
       "      <td>https://surftestvott.blob.core.windows.net/inp...</td>\n",
       "      <td>2</td>\n",
       "      <td>1</td>\n",
       "      <td>4000</td>\n",
       "      <td>3000</td>\n",
       "      <td>161.290323</td>\n",
       "      <td>83.333333</td>\n",
       "      <td>2236.559140</td>\n",
       "      <td>295.698925</td>\n",
       "      <td>fAcwMAL3t</td>\n",
       "      <td>[{'x': 83.33333333333333, 'y': 2279.5698924731...</td>\n",
       "      <td>unknow</td>\n",
       "      <td>POLYGON</td>\n",
       "      <td>6</td>\n",
       "    </tr>\n",
       "  </tbody>\n",
       "</table>\n",
       "</div>"
      ],
      "text/plain": [
       "  asset_format                          asset_id               asset_name  \\\n",
       "0          jpg  054c701d53ae957c713b0035cf72cbc2      20190628_183115.jpg   \n",
       "1          jpg  054c701d53ae957c713b0035cf72cbc2      20190628_183115.jpg   \n",
       "2          jpg  054c701d53ae957c713b0035cf72cbc2      20190628_183115.jpg   \n",
       "3          PNG  059250a637564bda617bc910dc58662f              GOPRO27.PNG   \n",
       "4          jpg  059c8e7c4c954fdb6cb795182e06bdc5  IMG_20190623_142911.jpg   \n",
       "\n",
       "                                          asset_path  asset_state  asset_type  \\\n",
       "0  https://surftestvott.blob.core.windows.net/inp...            2           1   \n",
       "1  https://surftestvott.blob.core.windows.net/inp...            2           1   \n",
       "2  https://surftestvott.blob.core.windows.net/inp...            2           1   \n",
       "3  https://surftestvott.blob.core.windows.net/inp...            2           1   \n",
       "4  https://surftestvott.blob.core.windows.net/inp...            2           1   \n",
       "\n",
       "   asset_size_height  asset_size_width  regions_boundingBox_height  \\\n",
       "0               4608              3456                   99.096774   \n",
       "1               4608              3456                  162.801843   \n",
       "2               4608              3456                  205.271889   \n",
       "3                601               535                  145.208054   \n",
       "4               4000              3000                  161.290323   \n",
       "\n",
       "   regions_boundingBox_left  regions_boundingBox_top  \\\n",
       "0               1828.032787              3319.741935   \n",
       "1               1410.196721              3935.557604   \n",
       "2               1813.868852              4254.082949   \n",
       "3                195.867717                75.293065   \n",
       "4                 83.333333              2236.559140   \n",
       "\n",
       "   regions_boundingBox_width regions_id  \\\n",
       "0                 141.639344  tSG7ziOnm   \n",
       "1                 120.393443  -mcZK2BYV   \n",
       "2                 233.704918  rkGnrdLSC   \n",
       "3                  92.079146  EHZ7iwHPp   \n",
       "4                 295.698925  fAcwMAL3t   \n",
       "\n",
       "                                      regions_points regions_tags  \\\n",
       "0  [{'x': 1863.4426229508197, 'y': 3319.741935483...       unknow   \n",
       "1  [{'x': 1530.5901639344263, 'y': 3935.557603686...       unknow   \n",
       "2  [{'x': 2019.2459016393443, 'y': 4254.082949308...       unknow   \n",
       "3  [{'x': 219.39158684045228, 'y': 90.08277404921...       unknow   \n",
       "4  [{'x': 83.33333333333333, 'y': 2279.5698924731...       unknow   \n",
       "\n",
       "  regions_type  points_count  \n",
       "0      POLYGON             4  \n",
       "1      POLYGON             4  \n",
       "2      POLYGON             6  \n",
       "3      POLYGON            21  \n",
       "4      POLYGON             6  "
      ]
     },
     "execution_count": 5,
     "metadata": {
      "tags": []
     },
     "output_type": "execute_result"
    }
   ],
   "source": [
    "df = dict_to_df(annotations)\n",
    "df.head()"
   ]
  },
  {
   "cell_type": "code",
   "execution_count": 0,
   "metadata": {
    "colab": {},
    "colab_type": "code",
    "id": "Zms1SaKTYyjn",
    "outputId": "9fe0cd4c-6d20-4cc8-f2c2-1e6f4963733f"
   },
   "outputs": [
    {
     "data": {
      "text/plain": [
       "891"
      ]
     },
     "execution_count": 6,
     "metadata": {
      "tags": []
     },
     "output_type": "execute_result"
    }
   ],
   "source": [
    "len(df)"
   ]
  },
  {
   "cell_type": "code",
   "execution_count": 0,
   "metadata": {
    "colab": {},
    "colab_type": "code",
    "id": "2YDp7jTqYyjv",
    "outputId": "58891b9c-089c-4242-fb16-2331b8167784"
   },
   "outputs": [
    {
     "data": {
      "text/plain": [
       "array(['unknow', 'drinking_bottle'], dtype=object)"
      ]
     },
     "execution_count": 7,
     "metadata": {
      "tags": []
     },
     "output_type": "execute_result"
    }
   ],
   "source": [
    "df.regions_tags.unique()"
   ]
  },
  {
   "cell_type": "code",
   "execution_count": 0,
   "metadata": {
    "colab": {},
    "colab_type": "code",
    "id": "Vl0hV1JyYyj3",
    "outputId": "ccb7dc68-98d1-406e-ba59-14e074e5af32"
   },
   "outputs": [
    {
     "data": {
      "text/plain": [
       "Berge%204.JPG          26\n",
       "05_Berge-copie3.jpg     8\n",
       "20190628_183344.jpg     6\n",
       "IMG_4335.JPG            6\n",
       "IMG_4336.JPG            5\n",
       "IMG_4362.JPG            5\n",
       "20190628_183359.jpg     5\n",
       "20190628_183345.jpg     5\n",
       "IMG_4282.JPG            5\n",
       "IMG_4369.JPG            5\n",
       "IMG_4283.JPG            5\n",
       "IMG_4264.JPG            5\n",
       "IMG_4269.JPG            5\n",
       "IMG_4334.JPG            5\n",
       "IMG_4284.JPG            5\n",
       "IMG_4368.JPG            5\n",
       "IMG_4365.JPG            5\n",
       "IMG_4367.JPG            5\n",
       "IMG_4314.JPG            5\n",
       "20190628_183459.jpg     4\n",
       "Name: asset_name, dtype: int64"
      ]
     },
     "execution_count": 8,
     "metadata": {
      "tags": []
     },
     "output_type": "execute_result"
    }
   ],
   "source": [
    "# nombre de bounding box max par image\n",
    "df[\"asset_name\"].value_counts()[:20].sort_values(ascending = False)"
   ]
  },
  {
   "cell_type": "code",
   "execution_count": 0,
   "metadata": {
    "colab": {},
    "colab_type": "code",
    "id": "xadnF6kNYyj_",
    "outputId": "9ff6bc0b-f368-42f7-f5f2-94d0ef5f78c3"
   },
   "outputs": [
    {
     "data": {
      "text/plain": [
       "<matplotlib.axes._subplots.AxesSubplot at 0x2d2a7288978>"
      ]
     },
     "execution_count": 9,
     "metadata": {
      "tags": []
     },
     "output_type": "execute_result"
    },
    {
     "data": {
      "image/png": "[encoded data removed]",
      "text/plain": [
       "<Figure size 720x720 with 1 Axes>"
      ]
     },
     "metadata": {
      "needs_background": "light",
      "tags": []
     },
     "output_type": "display_data"
    }
   ],
   "source": [
    "# plot nombres de bounding box par images\n",
    "df[\"asset_name\"].value_counts()[:50].plot(figsize=(10,10), color = 'mediumorchid', kind='bar')"
   ]
  },
  {
   "cell_type": "code",
   "execution_count": 0,
   "metadata": {
    "colab": {},
    "colab_type": "code",
    "id": "hy91wICIYykN",
    "outputId": "47197643-7c98-4fc1-f153-820335cc170f"
   },
   "outputs": [
    {
     "data": {
      "text/html": [
       "<div>\n",
       "<style scoped>\n",
       "    .dataframe tbody tr th:only-of-type {\n",
       "        vertical-align: middle;\n",
       "    }\n",
       "\n",
       "    .dataframe tbody tr th {\n",
       "        vertical-align: top;\n",
       "    }\n",
       "\n",
       "    .dataframe thead th {\n",
       "        text-align: right;\n",
       "    }\n",
       "</style>\n",
       "<table border=\"1\" class=\"dataframe\">\n",
       "  <thead>\n",
       "    <tr style=\"text-align: right;\">\n",
       "      <th></th>\n",
       "      <th>asset_name</th>\n",
       "      <th>asset_size_height</th>\n",
       "      <th>asset_size_width</th>\n",
       "      <th>asset_format</th>\n",
       "      <th>asset_id</th>\n",
       "      <th>asset_path</th>\n",
       "      <th>asset_state</th>\n",
       "      <th>asset_type</th>\n",
       "      <th>regions_boundingBox_height</th>\n",
       "      <th>regions_boundingBox_left</th>\n",
       "      <th>regions_boundingBox_top</th>\n",
       "      <th>regions_boundingBox_width</th>\n",
       "      <th>regions_id</th>\n",
       "      <th>regions_points</th>\n",
       "      <th>regions_tags</th>\n",
       "      <th>regions_type</th>\n",
       "      <th>points_count</th>\n",
       "    </tr>\n",
       "  </thead>\n",
       "  <tbody>\n",
       "    <tr>\n",
       "      <th>0</th>\n",
       "      <td>05_Berge-copie3.jpg</td>\n",
       "      <td>2960</td>\n",
       "      <td>4440</td>\n",
       "      <td>8</td>\n",
       "      <td>8</td>\n",
       "      <td>8</td>\n",
       "      <td>8</td>\n",
       "      <td>8</td>\n",
       "      <td>8</td>\n",
       "      <td>8</td>\n",
       "      <td>8</td>\n",
       "      <td>8</td>\n",
       "      <td>8</td>\n",
       "      <td>8</td>\n",
       "      <td>8</td>\n",
       "      <td>8</td>\n",
       "      <td>8</td>\n",
       "    </tr>\n",
       "    <tr>\n",
       "      <th>1</th>\n",
       "      <td>1.PNG</td>\n",
       "      <td>588</td>\n",
       "      <td>456</td>\n",
       "      <td>1</td>\n",
       "      <td>1</td>\n",
       "      <td>1</td>\n",
       "      <td>1</td>\n",
       "      <td>1</td>\n",
       "      <td>1</td>\n",
       "      <td>1</td>\n",
       "      <td>1</td>\n",
       "      <td>1</td>\n",
       "      <td>1</td>\n",
       "      <td>1</td>\n",
       "      <td>1</td>\n",
       "      <td>1</td>\n",
       "      <td>1</td>\n",
       "    </tr>\n",
       "    <tr>\n",
       "      <th>2</th>\n",
       "      <td>20190618_115928.jpg</td>\n",
       "      <td>3024</td>\n",
       "      <td>3024</td>\n",
       "      <td>1</td>\n",
       "      <td>1</td>\n",
       "      <td>1</td>\n",
       "      <td>1</td>\n",
       "      <td>1</td>\n",
       "      <td>1</td>\n",
       "      <td>1</td>\n",
       "      <td>1</td>\n",
       "      <td>1</td>\n",
       "      <td>1</td>\n",
       "      <td>1</td>\n",
       "      <td>1</td>\n",
       "      <td>1</td>\n",
       "      <td>1</td>\n",
       "    </tr>\n",
       "    <tr>\n",
       "      <th>3</th>\n",
       "      <td>20190618_120609.jpg</td>\n",
       "      <td>3024</td>\n",
       "      <td>3024</td>\n",
       "      <td>1</td>\n",
       "      <td>1</td>\n",
       "      <td>1</td>\n",
       "      <td>1</td>\n",
       "      <td>1</td>\n",
       "      <td>1</td>\n",
       "      <td>1</td>\n",
       "      <td>1</td>\n",
       "      <td>1</td>\n",
       "      <td>1</td>\n",
       "      <td>1</td>\n",
       "      <td>1</td>\n",
       "      <td>1</td>\n",
       "      <td>1</td>\n",
       "    </tr>\n",
       "    <tr>\n",
       "      <th>4</th>\n",
       "      <td>20190618_121035.jpg</td>\n",
       "      <td>3024</td>\n",
       "      <td>3024</td>\n",
       "      <td>1</td>\n",
       "      <td>1</td>\n",
       "      <td>1</td>\n",
       "      <td>1</td>\n",
       "      <td>1</td>\n",
       "      <td>1</td>\n",
       "      <td>1</td>\n",
       "      <td>1</td>\n",
       "      <td>1</td>\n",
       "      <td>1</td>\n",
       "      <td>1</td>\n",
       "      <td>1</td>\n",
       "      <td>1</td>\n",
       "      <td>1</td>\n",
       "    </tr>\n",
       "  </tbody>\n",
       "</table>\n",
       "</div>"
      ],
      "text/plain": [
       "            asset_name  asset_size_height  asset_size_width  asset_format  \\\n",
       "0  05_Berge-copie3.jpg               2960              4440             8   \n",
       "1                1.PNG                588               456             1   \n",
       "2  20190618_115928.jpg               3024              3024             1   \n",
       "3  20190618_120609.jpg               3024              3024             1   \n",
       "4  20190618_121035.jpg               3024              3024             1   \n",
       "\n",
       "   asset_id  asset_path  asset_state  asset_type  regions_boundingBox_height  \\\n",
       "0         8           8            8           8                           8   \n",
       "1         1           1            1           1                           1   \n",
       "2         1           1            1           1                           1   \n",
       "3         1           1            1           1                           1   \n",
       "4         1           1            1           1                           1   \n",
       "\n",
       "   regions_boundingBox_left  regions_boundingBox_top  \\\n",
       "0                         8                        8   \n",
       "1                         1                        1   \n",
       "2                         1                        1   \n",
       "3                         1                        1   \n",
       "4                         1                        1   \n",
       "\n",
       "   regions_boundingBox_width  regions_id  regions_points  regions_tags  \\\n",
       "0                          8           8               8             8   \n",
       "1                          1           1               1             1   \n",
       "2                          1           1               1             1   \n",
       "3                          1           1               1             1   \n",
       "4                          1           1               1             1   \n",
       "\n",
       "   regions_type  points_count  \n",
       "0             8             8  \n",
       "1             1             1  \n",
       "2             1             1  \n",
       "3             1             1  \n",
       "4             1             1  "
      ]
     },
     "execution_count": 10,
     "metadata": {
      "tags": []
     },
     "output_type": "execute_result"
    }
   ],
   "source": [
    "# aplatir nombre d'images pour ne pas avoir la même image qui compterat plusieurs fois\n",
    "img_size = df.groupby([\"asset_name\", \"asset_size_height\", \"asset_size_width\"], as_index = False).count()\n",
    "img_size.head()"
   ]
  },
  {
   "cell_type": "code",
   "execution_count": 0,
   "metadata": {
    "colab": {},
    "colab_type": "code",
    "id": "_52-qFOXYykW",
    "outputId": "bd84377c-3d48-4b14-d1c6-cb3745395c7b"
   },
   "outputs": [
    {
     "data": {
      "text/plain": [
       "pandas.core.frame.DataFrame"
      ]
     },
     "execution_count": 11,
     "metadata": {
      "tags": []
     },
     "output_type": "execute_result"
    }
   ],
   "source": [
    "type(img_size)"
   ]
  },
  {
   "cell_type": "code",
   "execution_count": 0,
   "metadata": {
    "colab": {},
    "colab_type": "code",
    "id": "5WTN--hjYykf",
    "outputId": "41625362-5f27-42ef-f162-6f036f34dfd4"
   },
   "outputs": [
    {
     "data": {
      "text/plain": [
       "509"
      ]
     },
     "execution_count": 12,
     "metadata": {
      "tags": []
     },
     "output_type": "execute_result"
    }
   ],
   "source": [
    "# s'assurer que les nombre d'images a bien été aplati\n",
    "len(img_size[\"asset_name\"])"
   ]
  },
  {
   "cell_type": "code",
   "execution_count": 0,
   "metadata": {
    "colab": {},
    "colab_type": "code",
    "id": "Ruj2O_aDYyko",
    "outputId": "2ad87b5e-aa19-4711-85a3-36e0b2f26f8a",
    "scrolled": true
   },
   "outputs": [
    {
     "data": {
      "text/plain": [
       "<matplotlib.axes._subplots.AxesSubplot at 0x2d2a7da7cc0>"
      ]
     },
     "execution_count": 13,
     "metadata": {
      "tags": []
     },
     "output_type": "execute_result"
    },
    {
     "data": {
      "image/png": "[encoded data removed]",
      "text/plain": [
       "<Figure size 720x720 with 1 Axes>"
      ]
     },
     "metadata": {
      "needs_background": "light",
      "tags": []
     },
     "output_type": "display_data"
    }
   ],
   "source": [
    "# plot nombres de bounding box par images (avec aplatissement une par/image )\n",
    "img_size[\"asset_name\"].value_counts()[:50].plot(figsize=(10,10), color = 'mediumorchid', kind='bar')"
   ]
  },
  {
   "cell_type": "code",
   "execution_count": 0,
   "metadata": {
    "colab": {},
    "colab_type": "code",
    "id": "TqbbEi8nYykv",
    "outputId": "7d1b6b96-0954-4034-bdaa-266a7123f5bd"
   },
   "outputs": [
    {
     "data": {
      "text/plain": [
       "509"
      ]
     },
     "execution_count": 14,
     "metadata": {
      "tags": []
     },
     "output_type": "execute_result"
    }
   ],
   "source": [
    "len(img_size[\"asset_size_height\"])"
   ]
  },
  {
   "cell_type": "code",
   "execution_count": 0,
   "metadata": {
    "colab": {},
    "colab_type": "code",
    "id": "uLn3x85XYyk2",
    "outputId": "319394db-4a77-471d-92b6-924c19fd6ea7"
   },
   "outputs": [
    {
     "data": {
      "image/png": "[encoded data removed]",
      "text/plain": [
       "<Figure size 360x360 with 1 Axes>"
      ]
     },
     "metadata": {
      "needs_background": "light",
      "tags": []
     },
     "output_type": "display_data"
    }
   ],
   "source": [
    "# comptabiliser les height les plus récurrentes\n",
    "height_max = img_size[\"asset_size_height\"].value_counts()[:20].sort_values(ascending = False).plot(figsize=(5,5), color = 'deeppink', kind='bar')"
   ]
  },
  {
   "cell_type": "code",
   "execution_count": 0,
   "metadata": {
    "colab": {},
    "colab_type": "code",
    "id": "XkfrPoL_Yyk8",
    "outputId": "2e13bb1f-5334-41fd-b13a-23e510a0d7fc"
   },
   "outputs": [
    {
     "data": {
      "text/plain": [
       "891"
      ]
     },
     "execution_count": 16,
     "metadata": {
      "tags": []
     },
     "output_type": "execute_result"
    }
   ],
   "source": [
    "len(df[\"asset_size_width\"])"
   ]
  },
  {
   "cell_type": "code",
   "execution_count": 0,
   "metadata": {
    "colab": {},
    "colab_type": "code",
    "id": "PFIqY4lKYylD",
    "outputId": "191e9343-7a8f-413a-be77-32f9a0d4e8f0"
   },
   "outputs": [
    {
     "data": {
      "image/png": "[encoded data removed]",
      "text/plain": [
       "<Figure size 360x360 with 1 Axes>"
      ]
     },
     "metadata": {
      "needs_background": "light",
      "tags": []
     },
     "output_type": "display_data"
    }
   ],
   "source": [
    "# comptabiliser les width les plus récurrentes\n",
    "width_max = img_size[\"asset_size_width\"].value_counts()[:20].sort_values(ascending = False).plot(figsize=(5,5), color = 'pink', kind='bar')"
   ]
  },
  {
   "cell_type": "code",
   "execution_count": 0,
   "metadata": {
    "colab": {},
    "colab_type": "code",
    "id": "MUN133VfYylL",
    "outputId": "868d3ae6-9a8c-4498-8ae0-28a9c1a87b6b"
   },
   "outputs": [
    {
     "data": {
      "text/html": [
       "<div>\n",
       "<style scoped>\n",
       "    .dataframe tbody tr th:only-of-type {\n",
       "        vertical-align: middle;\n",
       "    }\n",
       "\n",
       "    .dataframe tbody tr th {\n",
       "        vertical-align: top;\n",
       "    }\n",
       "\n",
       "    .dataframe thead th {\n",
       "        text-align: right;\n",
       "    }\n",
       "</style>\n",
       "<table border=\"1\" class=\"dataframe\">\n",
       "  <thead>\n",
       "    <tr style=\"text-align: right;\">\n",
       "      <th></th>\n",
       "      <th>asset_size_height</th>\n",
       "      <th>asset_size_width</th>\n",
       "    </tr>\n",
       "  </thead>\n",
       "  <tbody>\n",
       "    <tr>\n",
       "      <th>0</th>\n",
       "      <td>2960</td>\n",
       "      <td>4440</td>\n",
       "    </tr>\n",
       "    <tr>\n",
       "      <th>1</th>\n",
       "      <td>588</td>\n",
       "      <td>456</td>\n",
       "    </tr>\n",
       "    <tr>\n",
       "      <th>2</th>\n",
       "      <td>3024</td>\n",
       "      <td>3024</td>\n",
       "    </tr>\n",
       "    <tr>\n",
       "      <th>3</th>\n",
       "      <td>3024</td>\n",
       "      <td>3024</td>\n",
       "    </tr>\n",
       "    <tr>\n",
       "      <th>4</th>\n",
       "      <td>3024</td>\n",
       "      <td>3024</td>\n",
       "    </tr>\n",
       "  </tbody>\n",
       "</table>\n",
       "</div>"
      ],
      "text/plain": [
       "   asset_size_height  asset_size_width\n",
       "0               2960              4440\n",
       "1                588               456\n",
       "2               3024              3024\n",
       "3               3024              3024\n",
       "4               3024              3024"
      ]
     },
     "execution_count": 18,
     "metadata": {
      "tags": []
     },
     "output_type": "execute_result"
    }
   ],
   "source": [
    "# petit dataframe uniquement avec les sizes\n",
    "img_max = img_size[[\"asset_size_height\", \"asset_size_width\"]]\n",
    "img_max.head()"
   ]
  },
  {
   "cell_type": "code",
   "execution_count": 0,
   "metadata": {
    "colab": {},
    "colab_type": "code",
    "id": "lrtDlFMEYylU",
    "outputId": "a5bcf39f-c3ec-4f54-afe4-bddbb6c40092"
   },
   "outputs": [
    {
     "name": "stdout",
     "output_type": "stream",
     "text": [
      "<class 'pandas.core.frame.DataFrame'>\n",
      "Int64Index: 509 entries, 0 to 508\n",
      "Data columns (total 2 columns):\n",
      "asset_size_height    509 non-null int64\n",
      "asset_size_width     509 non-null int64\n",
      "dtypes: int64(2)\n",
      "memory usage: 11.9 KB\n"
     ]
    }
   ],
   "source": [
    "img_max.info()"
   ]
  },
  {
   "cell_type": "code",
   "execution_count": 0,
   "metadata": {
    "colab": {},
    "colab_type": "code",
    "id": "quLgXobRYylg",
    "outputId": "fb07e416-6096-476a-d909-ba124bffbcf5"
   },
   "outputs": [
    {
     "data": {
      "text/plain": [
       "4608"
      ]
     },
     "execution_count": 20,
     "metadata": {
      "tags": []
     },
     "output_type": "execute_result"
    }
   ],
   "source": [
    "# height max\n",
    "max(img_max[\"asset_size_height\"])"
   ]
  },
  {
   "cell_type": "code",
   "execution_count": 0,
   "metadata": {
    "colab": {},
    "colab_type": "code",
    "id": "ZgPWvQQPYylq",
    "outputId": "01e5186c-4d1e-4e9f-8d99-497df8e7d0d3"
   },
   "outputs": [
    {
     "data": {
      "text/plain": [
       "6000"
      ]
     },
     "execution_count": 21,
     "metadata": {
      "tags": []
     },
     "output_type": "execute_result"
    }
   ],
   "source": [
    "# width max\n",
    "max(img_max[\"asset_size_width\"])"
   ]
  },
  {
   "cell_type": "code",
   "execution_count": 0,
   "metadata": {
    "colab": {},
    "colab_type": "code",
    "id": "VGFgbPX-Yyl0",
    "outputId": "050e2a2e-348b-437b-ee1c-cb2fb10ff535"
   },
   "outputs": [
    {
     "data": {
      "text/html": [
       "<div>\n",
       "<style scoped>\n",
       "    .dataframe tbody tr th:only-of-type {\n",
       "        vertical-align: middle;\n",
       "    }\n",
       "\n",
       "    .dataframe tbody tr th {\n",
       "        vertical-align: top;\n",
       "    }\n",
       "\n",
       "    .dataframe thead th {\n",
       "        text-align: right;\n",
       "    }\n",
       "</style>\n",
       "<table border=\"1\" class=\"dataframe\">\n",
       "  <thead>\n",
       "    <tr style=\"text-align: right;\">\n",
       "      <th></th>\n",
       "      <th>asset_size_height</th>\n",
       "      <th>asset_size_width</th>\n",
       "    </tr>\n",
       "  </thead>\n",
       "  <tbody>\n",
       "  </tbody>\n",
       "</table>\n",
       "</div>"
      ],
      "text/plain": [
       "Empty DataFrame\n",
       "Columns: [asset_size_height, asset_size_width]\n",
       "Index: []"
      ]
     },
     "execution_count": 22,
     "metadata": {
      "tags": []
     },
     "output_type": "execute_result"
    }
   ],
   "source": [
    "# voir s'il existe une image avec ces deux max (résultat non)\n",
    "img = img_max[(img_max[\"asset_size_height\"]== 4608) & (img_max[\"asset_size_width\"]== 6000)]\n",
    "img"
   ]
  },
  {
   "cell_type": "code",
   "execution_count": 0,
   "metadata": {
    "colab": {},
    "colab_type": "code",
    "id": "kJLvMxX9Yyl5",
    "outputId": "48c23f90-aee2-4035-b157-b2c7ad141b17"
   },
   "outputs": [
    {
     "data": {
      "text/html": [
       "<div>\n",
       "<style scoped>\n",
       "    .dataframe tbody tr th:only-of-type {\n",
       "        vertical-align: middle;\n",
       "    }\n",
       "\n",
       "    .dataframe tbody tr th {\n",
       "        vertical-align: top;\n",
       "    }\n",
       "\n",
       "    .dataframe thead th {\n",
       "        text-align: right;\n",
       "    }\n",
       "</style>\n",
       "<table border=\"1\" class=\"dataframe\">\n",
       "  <thead>\n",
       "    <tr style=\"text-align: right;\">\n",
       "      <th></th>\n",
       "      <th>asset_size_width</th>\n",
       "      <th>asset_size_height</th>\n",
       "      <th>count</th>\n",
       "    </tr>\n",
       "  </thead>\n",
       "  <tbody>\n",
       "    <tr>\n",
       "      <th>36</th>\n",
       "      <td>3000</td>\n",
       "      <td>4000</td>\n",
       "      <td>143</td>\n",
       "    </tr>\n",
       "    <tr>\n",
       "      <th>41</th>\n",
       "      <td>6000</td>\n",
       "      <td>3368</td>\n",
       "      <td>138</td>\n",
       "    </tr>\n",
       "    <tr>\n",
       "      <th>42</th>\n",
       "      <td>6000</td>\n",
       "      <td>4000</td>\n",
       "      <td>118</td>\n",
       "    </tr>\n",
       "    <tr>\n",
       "      <th>38</th>\n",
       "      <td>3456</td>\n",
       "      <td>4608</td>\n",
       "      <td>56</td>\n",
       "    </tr>\n",
       "    <tr>\n",
       "      <th>37</th>\n",
       "      <td>3024</td>\n",
       "      <td>3024</td>\n",
       "      <td>15</td>\n",
       "    </tr>\n",
       "    <tr>\n",
       "      <th>35</th>\n",
       "      <td>2048</td>\n",
       "      <td>1536</td>\n",
       "      <td>2</td>\n",
       "    </tr>\n",
       "    <tr>\n",
       "      <th>30</th>\n",
       "      <td>974</td>\n",
       "      <td>527</td>\n",
       "      <td>1</td>\n",
       "    </tr>\n",
       "    <tr>\n",
       "      <th>24</th>\n",
       "      <td>891</td>\n",
       "      <td>556</td>\n",
       "      <td>1</td>\n",
       "    </tr>\n",
       "    <tr>\n",
       "      <th>25</th>\n",
       "      <td>900</td>\n",
       "      <td>571</td>\n",
       "      <td>1</td>\n",
       "    </tr>\n",
       "    <tr>\n",
       "      <th>26</th>\n",
       "      <td>911</td>\n",
       "      <td>562</td>\n",
       "      <td>1</td>\n",
       "    </tr>\n",
       "    <tr>\n",
       "      <th>27</th>\n",
       "      <td>913</td>\n",
       "      <td>518</td>\n",
       "      <td>1</td>\n",
       "    </tr>\n",
       "    <tr>\n",
       "      <th>28</th>\n",
       "      <td>954</td>\n",
       "      <td>517</td>\n",
       "      <td>1</td>\n",
       "    </tr>\n",
       "    <tr>\n",
       "      <th>29</th>\n",
       "      <td>962</td>\n",
       "      <td>593</td>\n",
       "      <td>1</td>\n",
       "    </tr>\n",
       "    <tr>\n",
       "      <th>33</th>\n",
       "      <td>1072</td>\n",
       "      <td>498</td>\n",
       "      <td>1</td>\n",
       "    </tr>\n",
       "    <tr>\n",
       "      <th>31</th>\n",
       "      <td>1022</td>\n",
       "      <td>603</td>\n",
       "      <td>1</td>\n",
       "    </tr>\n",
       "    <tr>\n",
       "      <th>32</th>\n",
       "      <td>1052</td>\n",
       "      <td>533</td>\n",
       "      <td>1</td>\n",
       "    </tr>\n",
       "    <tr>\n",
       "      <th>22</th>\n",
       "      <td>843</td>\n",
       "      <td>564</td>\n",
       "      <td>1</td>\n",
       "    </tr>\n",
       "    <tr>\n",
       "      <th>34</th>\n",
       "      <td>1080</td>\n",
       "      <td>1920</td>\n",
       "      <td>1</td>\n",
       "    </tr>\n",
       "    <tr>\n",
       "      <th>39</th>\n",
       "      <td>4440</td>\n",
       "      <td>2960</td>\n",
       "      <td>1</td>\n",
       "    </tr>\n",
       "    <tr>\n",
       "      <th>40</th>\n",
       "      <td>5184</td>\n",
       "      <td>3456</td>\n",
       "      <td>1</td>\n",
       "    </tr>\n",
       "    <tr>\n",
       "      <th>23</th>\n",
       "      <td>866</td>\n",
       "      <td>582</td>\n",
       "      <td>1</td>\n",
       "    </tr>\n",
       "    <tr>\n",
       "      <th>0</th>\n",
       "      <td>414</td>\n",
       "      <td>462</td>\n",
       "      <td>1</td>\n",
       "    </tr>\n",
       "    <tr>\n",
       "      <th>1</th>\n",
       "      <td>456</td>\n",
       "      <td>588</td>\n",
       "      <td>1</td>\n",
       "    </tr>\n",
       "    <tr>\n",
       "      <th>10</th>\n",
       "      <td>622</td>\n",
       "      <td>447</td>\n",
       "      <td>1</td>\n",
       "    </tr>\n",
       "    <tr>\n",
       "      <th>2</th>\n",
       "      <td>488</td>\n",
       "      <td>477</td>\n",
       "      <td>1</td>\n",
       "    </tr>\n",
       "    <tr>\n",
       "      <th>3</th>\n",
       "      <td>517</td>\n",
       "      <td>622</td>\n",
       "      <td>1</td>\n",
       "    </tr>\n",
       "    <tr>\n",
       "      <th>4</th>\n",
       "      <td>528</td>\n",
       "      <td>603</td>\n",
       "      <td>1</td>\n",
       "    </tr>\n",
       "    <tr>\n",
       "      <th>5</th>\n",
       "      <td>535</td>\n",
       "      <td>601</td>\n",
       "      <td>1</td>\n",
       "    </tr>\n",
       "    <tr>\n",
       "      <th>6</th>\n",
       "      <td>548</td>\n",
       "      <td>607</td>\n",
       "      <td>1</td>\n",
       "    </tr>\n",
       "    <tr>\n",
       "      <th>7</th>\n",
       "      <td>553</td>\n",
       "      <td>467</td>\n",
       "      <td>1</td>\n",
       "    </tr>\n",
       "    <tr>\n",
       "      <th>8</th>\n",
       "      <td>575</td>\n",
       "      <td>498</td>\n",
       "      <td>1</td>\n",
       "    </tr>\n",
       "    <tr>\n",
       "      <th>9</th>\n",
       "      <td>621</td>\n",
       "      <td>529</td>\n",
       "      <td>1</td>\n",
       "    </tr>\n",
       "    <tr>\n",
       "      <th>11</th>\n",
       "      <td>667</td>\n",
       "      <td>557</td>\n",
       "      <td>1</td>\n",
       "    </tr>\n",
       "    <tr>\n",
       "      <th>20</th>\n",
       "      <td>795</td>\n",
       "      <td>459</td>\n",
       "      <td>1</td>\n",
       "    </tr>\n",
       "    <tr>\n",
       "      <th>12</th>\n",
       "      <td>683</td>\n",
       "      <td>567</td>\n",
       "      <td>1</td>\n",
       "    </tr>\n",
       "    <tr>\n",
       "      <th>13</th>\n",
       "      <td>701</td>\n",
       "      <td>507</td>\n",
       "      <td>1</td>\n",
       "    </tr>\n",
       "    <tr>\n",
       "      <th>14</th>\n",
       "      <td>737</td>\n",
       "      <td>556</td>\n",
       "      <td>1</td>\n",
       "    </tr>\n",
       "    <tr>\n",
       "      <th>15</th>\n",
       "      <td>752</td>\n",
       "      <td>533</td>\n",
       "      <td>1</td>\n",
       "    </tr>\n",
       "    <tr>\n",
       "      <th>16</th>\n",
       "      <td>755</td>\n",
       "      <td>544</td>\n",
       "      <td>1</td>\n",
       "    </tr>\n",
       "    <tr>\n",
       "      <th>17</th>\n",
       "      <td>759</td>\n",
       "      <td>562</td>\n",
       "      <td>1</td>\n",
       "    </tr>\n",
       "    <tr>\n",
       "      <th>18</th>\n",
       "      <td>769</td>\n",
       "      <td>542</td>\n",
       "      <td>1</td>\n",
       "    </tr>\n",
       "    <tr>\n",
       "      <th>19</th>\n",
       "      <td>789</td>\n",
       "      <td>457</td>\n",
       "      <td>1</td>\n",
       "    </tr>\n",
       "    <tr>\n",
       "      <th>21</th>\n",
       "      <td>826</td>\n",
       "      <td>592</td>\n",
       "      <td>1</td>\n",
       "    </tr>\n",
       "  </tbody>\n",
       "</table>\n",
       "</div>"
      ],
      "text/plain": [
       "    asset_size_width  asset_size_height  count\n",
       "36              3000               4000    143\n",
       "41              6000               3368    138\n",
       "42              6000               4000    118\n",
       "38              3456               4608     56\n",
       "37              3024               3024     15\n",
       "35              2048               1536      2\n",
       "30               974                527      1\n",
       "24               891                556      1\n",
       "25               900                571      1\n",
       "26               911                562      1\n",
       "27               913                518      1\n",
       "28               954                517      1\n",
       "29               962                593      1\n",
       "33              1072                498      1\n",
       "31              1022                603      1\n",
       "32              1052                533      1\n",
       "22               843                564      1\n",
       "34              1080               1920      1\n",
       "39              4440               2960      1\n",
       "40              5184               3456      1\n",
       "23               866                582      1\n",
       "0                414                462      1\n",
       "1                456                588      1\n",
       "10               622                447      1\n",
       "2                488                477      1\n",
       "3                517                622      1\n",
       "4                528                603      1\n",
       "5                535                601      1\n",
       "6                548                607      1\n",
       "7                553                467      1\n",
       "8                575                498      1\n",
       "9                621                529      1\n",
       "11               667                557      1\n",
       "20               795                459      1\n",
       "12               683                567      1\n",
       "13               701                507      1\n",
       "14               737                556      1\n",
       "15               752                533      1\n",
       "16               755                544      1\n",
       "17               759                562      1\n",
       "18               769                542      1\n",
       "19               789                457      1\n",
       "21               826                592      1"
      ]
     },
     "execution_count": 23,
     "metadata": {
      "tags": []
     },
     "output_type": "execute_result"
    }
   ],
   "source": [
    "# comptabilisation des tailles les plus récurrentes\n",
    "tot_img_size = img_max.groupby(['asset_size_width','asset_size_height']).size().reset_index(name=\"count\")\n",
    "tot_img_size.sort_values(\"count\", ascending=False) "
   ]
  },
  {
   "cell_type": "code",
   "execution_count": 0,
   "metadata": {
    "colab": {},
    "colab_type": "code",
    "id": "UfNidjoDYymA",
    "outputId": "68716bbc-6c94-4381-9b82-f7475667e77f"
   },
   "outputs": [
    {
     "data": {
      "text/plain": [
       "<matplotlib.axes._subplots.AxesSubplot at 0x2d2a8023d68>"
      ]
     },
     "execution_count": 24,
     "metadata": {
      "tags": []
     },
     "output_type": "execute_result"
    },
    {
     "data": {
      "image/png": "[encoded data removed]",
      "text/plain": [
       "<Figure size 720x720 with 1 Axes>"
      ]
     },
     "metadata": {
      "needs_background": "light",
      "tags": []
     },
     "output_type": "display_data"
    }
   ],
   "source": [
    "tot_img_size.plot(figsize=(10,10), color = 'darkturquoise', kind='bar')"
   ]
  },
  {
   "cell_type": "code",
   "execution_count": 0,
   "metadata": {
    "colab": {},
    "colab_type": "code",
    "id": "Wx85mVjrYymJ",
    "outputId": "76526fb2-8468-44d5-a785-92160e021767"
   },
   "outputs": [
    {
     "data": {
      "text/html": [
       "<div>\n",
       "<style scoped>\n",
       "    .dataframe tbody tr th:only-of-type {\n",
       "        vertical-align: middle;\n",
       "    }\n",
       "\n",
       "    .dataframe tbody tr th {\n",
       "        vertical-align: top;\n",
       "    }\n",
       "\n",
       "    .dataframe thead th {\n",
       "        text-align: right;\n",
       "    }\n",
       "</style>\n",
       "<table border=\"1\" class=\"dataframe\">\n",
       "  <thead>\n",
       "    <tr style=\"text-align: right;\">\n",
       "      <th></th>\n",
       "      <th>asset_size_width</th>\n",
       "      <th>asset_size_height</th>\n",
       "      <th>count</th>\n",
       "    </tr>\n",
       "  </thead>\n",
       "  <tbody>\n",
       "    <tr>\n",
       "      <th>36</th>\n",
       "      <td>3000</td>\n",
       "      <td>4000</td>\n",
       "      <td>143</td>\n",
       "    </tr>\n",
       "    <tr>\n",
       "      <th>37</th>\n",
       "      <td>3024</td>\n",
       "      <td>3024</td>\n",
       "      <td>15</td>\n",
       "    </tr>\n",
       "    <tr>\n",
       "      <th>38</th>\n",
       "      <td>3456</td>\n",
       "      <td>4608</td>\n",
       "      <td>56</td>\n",
       "    </tr>\n",
       "    <tr>\n",
       "      <th>41</th>\n",
       "      <td>6000</td>\n",
       "      <td>3368</td>\n",
       "      <td>138</td>\n",
       "    </tr>\n",
       "    <tr>\n",
       "      <th>42</th>\n",
       "      <td>6000</td>\n",
       "      <td>4000</td>\n",
       "      <td>118</td>\n",
       "    </tr>\n",
       "  </tbody>\n",
       "</table>\n",
       "</div>"
      ],
      "text/plain": [
       "    asset_size_width  asset_size_height  count\n",
       "36              3000               4000    143\n",
       "37              3024               3024     15\n",
       "38              3456               4608     56\n",
       "41              6000               3368    138\n",
       "42              6000               4000    118"
      ]
     },
     "execution_count": 25,
     "metadata": {
      "tags": []
     },
     "output_type": "execute_result"
    }
   ],
   "source": [
    "# masque pour valeurs supérieures à 15\n",
    "cat_15_or_more = tot_img_size[(tot_img_size[\"count\"]>= 15)]\n",
    "cat_15_or_more"
   ]
  },
  {
   "cell_type": "code",
   "execution_count": 0,
   "metadata": {
    "colab": {},
    "colab_type": "code",
    "id": "Kvko6dAh50aL",
    "outputId": "59e2e5f7-599a-4d1b-adcb-d4785801c5b1"
   },
   "outputs": [
    {
     "data": {
      "text/html": [
       "<div>\n",
       "<style scoped>\n",
       "    .dataframe tbody tr th:only-of-type {\n",
       "        vertical-align: middle;\n",
       "    }\n",
       "\n",
       "    .dataframe tbody tr th {\n",
       "        vertical-align: top;\n",
       "    }\n",
       "\n",
       "    .dataframe thead th {\n",
       "        text-align: right;\n",
       "    }\n",
       "</style>\n",
       "<table border=\"1\" class=\"dataframe\">\n",
       "  <thead>\n",
       "    <tr style=\"text-align: right;\">\n",
       "      <th></th>\n",
       "      <th>asset_size_width</th>\n",
       "      <th>asset_size_height</th>\n",
       "      <th>count</th>\n",
       "    </tr>\n",
       "  </thead>\n",
       "  <tbody>\n",
       "    <tr>\n",
       "      <th>0</th>\n",
       "      <td>414</td>\n",
       "      <td>462</td>\n",
       "      <td>1</td>\n",
       "    </tr>\n",
       "    <tr>\n",
       "      <th>1</th>\n",
       "      <td>456</td>\n",
       "      <td>588</td>\n",
       "      <td>1</td>\n",
       "    </tr>\n",
       "    <tr>\n",
       "      <th>2</th>\n",
       "      <td>488</td>\n",
       "      <td>477</td>\n",
       "      <td>1</td>\n",
       "    </tr>\n",
       "    <tr>\n",
       "      <th>3</th>\n",
       "      <td>517</td>\n",
       "      <td>622</td>\n",
       "      <td>1</td>\n",
       "    </tr>\n",
       "    <tr>\n",
       "      <th>4</th>\n",
       "      <td>528</td>\n",
       "      <td>603</td>\n",
       "      <td>1</td>\n",
       "    </tr>\n",
       "  </tbody>\n",
       "</table>\n",
       "</div>"
      ],
      "text/plain": [
       "   asset_size_width  asset_size_height  count\n",
       "0               414                462      1\n",
       "1               456                588      1\n",
       "2               488                477      1\n",
       "3               517                622      1\n",
       "4               528                603      1"
      ]
     },
     "execution_count": 26,
     "metadata": {
      "tags": []
     },
     "output_type": "execute_result"
    }
   ],
   "source": [
    "# une seule categorie pour les chiffres inferieurs ou = à 2\n",
    "cat_2_or_less = tot_img_size[(tot_img_size[\"count\"]<= 2)]\n",
    "cat_2_or_less.head()"
   ]
  },
  {
   "cell_type": "code",
   "execution_count": 0,
   "metadata": {
    "colab": {},
    "colab_type": "code",
    "id": "fkZJzL2m50aO",
    "outputId": "37f2ab45-83a6-4f04-a7d8-17b2cdcecc7f"
   },
   "outputs": [
    {
     "data": {
      "text/plain": [
       "asset_size_width     38202\n",
       "asset_size_height    28273\n",
       "count                   39\n",
       "dtype: int64"
      ]
     },
     "execution_count": 27,
     "metadata": {
      "tags": []
     },
     "output_type": "execute_result"
    }
   ],
   "source": [
    "# faire une ligne (somme) avec toutes ces valeurs\n",
    "cat_2_or_less = cat_2_or_less.sum()\n",
    "cat_2_or_less"
   ]
  },
  {
   "cell_type": "code",
   "execution_count": 0,
   "metadata": {
    "colab": {},
    "colab_type": "code",
    "id": "mSLuJoUF50aQ"
   },
   "outputs": [],
   "source": [
    "# rajouter une ligne pour les chiffres <= 2 à cat_15_or_more\n"
   ]
  },
  {
   "cell_type": "code",
   "execution_count": 0,
   "metadata": {
    "colab": {},
    "colab_type": "code",
    "id": "tqNDGA2c50aS",
    "outputId": "7923c5b7-449e-48ae-b244-dc2bdd35e327"
   },
   "outputs": [
    {
     "data": {
      "text/html": [
       "<div>\n",
       "<style scoped>\n",
       "    .dataframe tbody tr th:only-of-type {\n",
       "        vertical-align: middle;\n",
       "    }\n",
       "\n",
       "    .dataframe tbody tr th {\n",
       "        vertical-align: top;\n",
       "    }\n",
       "\n",
       "    .dataframe thead th {\n",
       "        text-align: right;\n",
       "    }\n",
       "</style>\n",
       "<table border=\"1\" class=\"dataframe\">\n",
       "  <thead>\n",
       "    <tr style=\"text-align: right;\">\n",
       "      <th></th>\n",
       "      <th>asset_size_width</th>\n",
       "      <th>asset_size_height</th>\n",
       "      <th>count</th>\n",
       "    </tr>\n",
       "  </thead>\n",
       "  <tbody>\n",
       "    <tr>\n",
       "      <th>36</th>\n",
       "      <td>3000</td>\n",
       "      <td>4000</td>\n",
       "      <td>143</td>\n",
       "    </tr>\n",
       "    <tr>\n",
       "      <th>37</th>\n",
       "      <td>3024</td>\n",
       "      <td>3024</td>\n",
       "      <td>15</td>\n",
       "    </tr>\n",
       "    <tr>\n",
       "      <th>38</th>\n",
       "      <td>3456</td>\n",
       "      <td>4608</td>\n",
       "      <td>56</td>\n",
       "    </tr>\n",
       "    <tr>\n",
       "      <th>41</th>\n",
       "      <td>6000</td>\n",
       "      <td>3368</td>\n",
       "      <td>138</td>\n",
       "    </tr>\n",
       "    <tr>\n",
       "      <th>42</th>\n",
       "      <td>6000</td>\n",
       "      <td>4000</td>\n",
       "      <td>118</td>\n",
       "    </tr>\n",
       "  </tbody>\n",
       "</table>\n",
       "</div>"
      ],
      "text/plain": [
       "    asset_size_width  asset_size_height  count\n",
       "36              3000               4000    143\n",
       "37              3024               3024     15\n",
       "38              3456               4608     56\n",
       "41              6000               3368    138\n",
       "42              6000               4000    118"
      ]
     },
     "execution_count": 29,
     "metadata": {
      "tags": []
     },
     "output_type": "execute_result"
    }
   ],
   "source": [
    "# nouveau dataframe avec les valeurs pour plot \n",
    "cat_pie_chart = cat_15_or_more \n",
    "cat_pie_chart"
   ]
  },
  {
   "cell_type": "code",
   "execution_count": 0,
   "metadata": {
    "colab": {},
    "colab_type": "code",
    "id": "KmC1hEoh50aU",
    "outputId": "22b66f96-5a11-4dc4-d717-f557ebc04c60"
   },
   "outputs": [
    {
     "data": {
      "text/plain": [
       "'36    3000\\n37    3024\\n38    3456\\n41    6000\\n42    6000\\nName: asset_size_width, dtype: int6436    4000\\n37    3024\\n38    4608\\n41    3368\\n42    4000\\nName: asset_size_height, dtype: int64'"
      ]
     },
     "execution_count": 30,
     "metadata": {
      "tags": []
     },
     "output_type": "execute_result"
    }
   ],
   "source": [
    "# rajouter une colonne size avec str des deux dimensions pour legendes width * height\n",
    "colonne_size = (str(cat_pie_chart[\"asset_size_width\"]) + str(cat_pie_chart[\"asset_size_height\"]))\n",
    "colonne_size"
   ]
  },
  {
   "cell_type": "code",
   "execution_count": 0,
   "metadata": {
    "colab": {},
    "colab_type": "code",
    "id": "FfEecMAdYymO",
    "outputId": "e4924c28-85ac-4b49-f3d0-3f1cec379756"
   },
   "outputs": [
    {
     "data": {
      "image/png": "[encoded data removed]",
      "text/plain": [
       "<Figure size 360x360 with 1 Axes>"
      ]
     },
     "metadata": {
      "tags": []
     },
     "output_type": "display_data"
    }
   ],
   "source": [
    "cat_pie_chart.plot.pie(\"asset_size_height\",figsize=(5, 5))\n",
    "plt.show()"
   ]
  },
  {
   "cell_type": "code",
   "execution_count": 0,
   "metadata": {
    "colab": {},
    "colab_type": "code",
    "id": "wNqgpzmK50aa",
    "outputId": "8f3ce8a4-e151-49e7-8e29-8e9e3ae262e6"
   },
   "outputs": [
    {
     "data": {
      "text/plain": [
       "128"
      ]
     },
     "execution_count": 32,
     "metadata": {
      "tags": []
     },
     "output_type": "execute_result"
    }
   ],
   "source": [
    "# comptabiliser le nombre de bouteilles & unknown\n",
    "nb_bouteilles = df.regions_tags[(df.regions_tags == 'drinking_bottle')]\n",
    "nb_bouteilles\n",
    "len(nb_bouteilles)"
   ]
  },
  {
   "cell_type": "code",
   "execution_count": 0,
   "metadata": {
    "colab": {},
    "colab_type": "code",
    "id": "14dyjBsZ50af",
    "outputId": "5fdafb20-6649-485d-b56c-c639d0d69d23"
   },
   "outputs": [
    {
     "data": {
      "text/plain": [
       "763"
      ]
     },
     "execution_count": 33,
     "metadata": {
      "tags": []
     },
     "output_type": "execute_result"
    }
   ],
   "source": [
    "# comptabiliser le nombre de bouteilles & unknown\n",
    "nb_unknow = df.regions_tags[(df.regions_tags == 'unknow')]\n",
    "nb_unknow \n",
    "len(nb_unknow)"
   ]
  },
  {
   "cell_type": "code",
   "execution_count": 0,
   "metadata": {
    "colab": {},
    "colab_type": "code",
    "id": "81bMtmaC50ai"
   },
   "outputs": [],
   "source": [
    "import matplotlib.pyplot as plt\n"
   ]
  },
  {
   "cell_type": "code",
   "execution_count": 0,
   "metadata": {
    "colab": {},
    "colab_type": "code",
    "id": "R99Rx30q50al"
   },
   "outputs": [],
   "source": []
  }
 ],
 "metadata": {
  "colab": {
   "name": "Surfrider_notebook_dataviz_images.ipynb",
   "provenance": [],
   "version": "0.3.2"
  },
  "kernelspec": {
   "display_name": "Python 3",
   "language": "python",
   "name": "python3"
  },
  "language_info": {
   "codemirror_mode": {
    "name": "ipython",
    "version": 3
   },
   "file_extension": ".py",
   "mimetype": "text/x-python",
   "name": "python",
   "nbconvert_exporter": "python",
   "pygments_lexer": "ipython3",
   "version": "3.6.8"
  }
 },
 "nbformat": 4,
 "nbformat_minor": 1
}
